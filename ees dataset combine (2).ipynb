{
 "cells": [
  {
   "cell_type": "markdown",
   "id": "e955cacc-9e4c-4753-98eb-575f9b7b1c51",
   "metadata": {},
   "source": [
    "### This notebook shows how to merge the main dataset with the additional data from other dataset to get a comprehensive dataset for the study"
   ]
  },
  {
   "cell_type": "code",
   "execution_count": 1,
   "id": "e6028114-6db2-4169-9d28-c851363b8a32",
   "metadata": {},
   "outputs": [
    {
     "name": "stdout",
     "output_type": "stream",
     "text": [
      "/Users/dundun/Desktop/programming group project 2\n"
     ]
    }
   ],
   "source": [
    "import os\n",
    "print(os.getcwd())"
   ]
  },
  {
   "cell_type": "code",
   "execution_count": 3,
   "id": "24b76c05-855a-4187-bffe-c06075c4f54c",
   "metadata": {},
   "outputs": [],
   "source": [
    "import pandas as pd\n",
    "data_file = \"ESS10MD_e01.csv\"\n",
    "data_full = pd.read_csv(data_file, low_memory=False)"
   ]
  },
  {
   "cell_type": "code",
   "execution_count": 4,
   "id": "b9438795-a513-492f-9b4b-3817f8690303",
   "metadata": {},
   "outputs": [
    {
     "name": "stdout",
     "output_type": "stream",
     "text": [
      "    idno cntry ess10_reg  regunit nuts1 nuts2 nuts3        name  essround  \\\n",
      "0  10038    BE      BE24        2   BE2  BE24   NaN  ESS10e03_2        10   \n",
      "1  10053    BE      BE24        2   BE2  BE24   NaN  ESS10e03_2        10   \n",
      "2  10055    BE      BE33        2   BE3  BE33   NaN  ESS10e03_2        10   \n",
      "3  10062    BE      BE21        2   BE2  BE21   NaN  ESS10e03_2        10   \n",
      "4  10064    BE      BE24        2   BE2  BE24   NaN  ESS10e03_2        10   \n",
      "\n",
      "   edition  ... reg10_drugt_1998  reg10_drugt_1999  reg10_drugt_2000  \\\n",
      "0      3.2  ...              NaN               NaN               NaN   \n",
      "1      3.2  ...              NaN               NaN               NaN   \n",
      "2      3.2  ...              NaN               NaN               NaN   \n",
      "3      3.2  ...              NaN               NaN               NaN   \n",
      "4      3.2  ...              NaN               NaN               NaN   \n",
      "\n",
      "   reg10_drugt_2001  reg10_drugt_2002  reg10_drugt_2003  reg10_drugt_2004  \\\n",
      "0               NaN               NaN               NaN               NaN   \n",
      "1               NaN               NaN               NaN               NaN   \n",
      "2               NaN               NaN               NaN               NaN   \n",
      "3               NaN               NaN               NaN               NaN   \n",
      "4               NaN               NaN               NaN               NaN   \n",
      "\n",
      "   reg10_drugt_2005  reg10_drugt_2006  reg10_drugt_2007  \n",
      "0               NaN               NaN               NaN  \n",
      "1               NaN               NaN               NaN  \n",
      "2               NaN               NaN               NaN  \n",
      "3               NaN               NaN               NaN  \n",
      "4               NaN               NaN               NaN  \n",
      "\n",
      "[5 rows x 8265 columns]\n"
     ]
    }
   ],
   "source": [
    "print(data_full.head())"
   ]
  },
  {
   "cell_type": "code",
   "execution_count": 5,
   "id": "0e38a9ce-8970-4f7e-8c3c-2303ce8f34ee",
   "metadata": {},
   "outputs": [
    {
     "name": "stdout",
     "output_type": "stream",
     "text": [
      "['BE24' 'BE33' 'BE21' 'BE23' 'BE32' 'BE25' 'BE34' 'BE35' 'BE22' 'BE31'\n",
      " 'BE10' 'BG33' 'BG41' 'BG42' 'BG34' 'BG32' 'BG31' 'CH05' 'CH03' 'CH01'\n",
      " 'CH06' 'CH02' 'CH04' 'CH07' 'CZ05' 'CZ07' 'CZ04' 'CZ01' 'CZ03' 'CZ08'\n",
      " 'CZ06' 'CZ02' 'EE00' 'FI1C' 'FI1B' 'FI1D' 'FI19' 'FI20' 'FRI2' 'FRK2'\n",
      " 'FRG0' 'FRD2' 'FRB0' 'FRD1' 'FRF1' 'FRH0' 'FR10' 'FRJ2' 'FRL0' 'FRK1'\n",
      " 'FRI1' 'FRC2' 'FRJ1' 'FRI3' 'FRE2' 'FRE1' 'FRC1' 'FRF3' 'FRF2' nan 'EL42'\n",
      " 'EL43' 'EL52' 'EL30' 'EL63' 'EL41' 'EL61' 'EL64' 'EL51' 'EL54' 'EL65'\n",
      " 'EL53' 'EL62' 'HR02' 'HR03' 'HR06' 'HR05' 'HU11' 'HU33' 'HU12' 'HU31'\n",
      " 'HU21' 'HU22' 'HU32' 'HU23' 'IE05' 'IE06' 'IE04' 'IS00' '9999' 'LT02'\n",
      " 'LT01' 'ME0' 'MK00' 'NL33' 'NL21' 'NL11' 'NL32' 'NL22' 'NL31' 'NL42'\n",
      " 'NL41' 'NL34' 'NL13' 'NL23' 'NL12' 'NO0A' 'NO08' 'NO02' 'NO06' 'NO09'\n",
      " 'NO07' 'PT15' 'PT17' 'PT11' 'PT16' 'PT18' 'SI03' 'SI04' 'SK02' 'SK04'\n",
      " 'SK03' 'SK01']\n"
     ]
    }
   ],
   "source": [
    "print(data_full['nuts2'].unique())"
   ]
  },
  {
   "cell_type": "code",
   "execution_count": 6,
   "id": "12aa191b-32f0-4563-be63-02e1b8e742e1",
   "metadata": {},
   "outputs": [
    {
     "name": "stdout",
     "output_type": "stream",
     "text": [
      "       c_corruption_2022  c_effectiveness_2022    c_law_2022  c_quality_2022  \\\n",
      "count       37611.000000          37611.000000  37611.000000    37611.000000   \n",
      "mean            0.836024              0.906407      0.904037        1.003005   \n",
      "std             0.800363              0.642061      0.648525        0.507258   \n",
      "min            -0.323431             -0.270800     -0.125401        0.320687   \n",
      "25%             0.037797              0.447399      0.325585        0.502550   \n",
      "50%             0.729021              1.001591      1.100806        0.850253   \n",
      "75%             1.567528              1.343134      1.426389        1.516139   \n",
      "max             2.246978              2.049949      1.958373        1.779153   \n",
      "\n",
      "       c_stability_2022  \n",
      "count      37611.000000  \n",
      "mean           0.575793  \n",
      "std            0.319489  \n",
      "min           -0.059177  \n",
      "25%            0.334524  \n",
      "50%            0.635951  \n",
      "75%            0.815441  \n",
      "max            1.262935  \n"
     ]
    }
   ],
   "source": [
    "print(data_full[['c_corruption_2022', 'c_effectiveness_2022', 'c_law_2022', 'c_quality_2022', 'c_stability_2022']].describe())"
   ]
  },
  {
   "cell_type": "code",
   "execution_count": 7,
   "id": "8d8e7428-c42a-4c3d-a3ec-cb892ef9fe95",
   "metadata": {},
   "outputs": [
    {
     "name": "stdout",
     "output_type": "stream",
     "text": [
      "                      c_corruption_2022  c_effectiveness_2022  c_law_2022  \\\n",
      "c_corruption_2022              1.000000              0.939672    0.953136   \n",
      "c_effectiveness_2022           0.939672              1.000000    0.976101   \n",
      "c_law_2022                     0.953136              0.976101    1.000000   \n",
      "c_quality_2022                 0.916233              0.894421    0.932348   \n",
      "c_stability_2022               0.703086              0.810436    0.804725   \n",
      "\n",
      "                      c_quality_2022  c_stability_2022  \n",
      "c_corruption_2022           0.916233          0.703086  \n",
      "c_effectiveness_2022        0.894421          0.810436  \n",
      "c_law_2022                  0.932348          0.804725  \n",
      "c_quality_2022              1.000000          0.683266  \n",
      "c_stability_2022            0.683266          1.000000  \n"
     ]
    }
   ],
   "source": [
    "print(data_full[['c_corruption_2022', 'c_effectiveness_2022', 'c_law_2022', 'c_quality_2022', 'c_stability_2022']].corr())"
   ]
  },
  {
   "cell_type": "code",
   "execution_count": 8,
   "id": "11974ce1-58c3-481d-86d6-7f845039345c",
   "metadata": {},
   "outputs": [],
   "source": [
    "from sklearn.preprocessing import StandardScaler\n",
    "\n",
    "# Standardize CPI score\n",
    "scaler = StandardScaler()\n",
    "data_full['CPI_standardized'] = scaler.fit_transform(data_full[['c_ticpi_2022']])"
   ]
  },
  {
   "cell_type": "code",
   "execution_count": 9,
   "id": "8f3bd067-43de-46c1-a88e-e5c66b684f7a",
   "metadata": {},
   "outputs": [
    {
     "name": "stdout",
     "output_type": "stream",
     "text": [
      "                      CPI_standardized  c_effectiveness_2022  \\\n",
      "CPI_standardized              1.000000              0.928515   \n",
      "c_effectiveness_2022          0.928515              1.000000   \n",
      "c_corruption_2022             0.988885              0.939672   \n",
      "\n",
      "                      c_corruption_2022  \n",
      "CPI_standardized               0.988885  \n",
      "c_effectiveness_2022           0.939672  \n",
      "c_corruption_2022              1.000000  \n"
     ]
    }
   ],
   "source": [
    "# Calculate correlation with other governance indicators\n",
    "correlation = data_full[['CPI_standardized', 'c_effectiveness_2022', 'c_corruption_2022']].corr()\n",
    "print(correlation)"
   ]
  },
  {
   "cell_type": "code",
   "execution_count": 10,
   "id": "b123e01c-dcf9-4ae6-bab0-861e6b68e529",
   "metadata": {},
   "outputs": [
    {
     "name": "stdout",
     "output_type": "stream",
     "text": [
      "          ppltrst   trstprl\n",
      "ppltrst  1.000000  0.080848\n",
      "trstprl  0.080848  1.000000\n"
     ]
    }
   ],
   "source": [
    "print(data_full[['ppltrst', 'trstprl']].corr())"
   ]
  },
  {
   "cell_type": "code",
   "execution_count": 11,
   "id": "f22b51b2-efd0-40bf-86c5-c3ffc09d3fd4",
   "metadata": {},
   "outputs": [
    {
     "name": "stdout",
     "output_type": "stream",
     "text": [
      "All required variables are present in the dataset.\n"
     ]
    }
   ],
   "source": [
    "# List of required variables\n",
    "required_variables = ['idno', 'gincdif', 'nuts2', 'eisced', 'eiscedf', 'eiscedm', 'domicil', 'n2_unrao25_2022', 'wkhtot', 'ipeqopt', 'inprdsc', 'ppltrst', 'trstprl', 'gndr', 'agea', 'cntry', 'marsts', 'chldhhe', 'uemp3m', 'mbtru', 'hinctnta', 'c_gini_2022', 'c_effectiveness_2022', 'n2_unrao25_2020', 'n2_unrao25_2021', 'c_gini_2020', 'c_gini_2021', 'c_effectiveness_2020', 'c_effectiveness_2021']\n",
    "\n",
    "# Check if each required variable exists in the dataset\n",
    "missing_vars = [var for var in required_variables if var not in data_full.columns]\n",
    "\n",
    "if missing_vars:\n",
    "    print(\"Missing variables:\", missing_vars)\n",
    "else:\n",
    "    print(\"All required variables are present in the dataset.\")"
   ]
  },
  {
   "cell_type": "code",
   "execution_count": 12,
   "id": "06a28b0c-534d-4cb4-b29d-fe7d9cb3d1c3",
   "metadata": {},
   "outputs": [
    {
     "name": "stdout",
     "output_type": "stream",
     "text": [
      "    idno  gincdif nuts2  eisced  eiscedf  eiscedm  domicil  n2_unrao25_2022  \\\n",
      "0  10038        2  BE24       1        4      6.0        4              2.7   \n",
      "1  10053        3  BE24       7        7      7.0        4              2.7   \n",
      "2  10055        3  BE33       6        5      5.0        4              7.5   \n",
      "3  10062        8  BE21       4        1      1.0        1              3.2   \n",
      "4  10064        2  BE24       7        6      6.0        2              2.7   \n",
      "\n",
      "   wkhtot  ipeqopt  ...  mbtru  hinctnta  c_gini_2022  c_effectiveness_2022  \\\n",
      "0     666        1  ...      3        88         24.9              1.227659   \n",
      "1      40        2  ...      3        88         24.9              1.227659   \n",
      "2      42        1  ...      2         7         24.9              1.227659   \n",
      "3      35        2  ...      3         7         24.9              1.227659   \n",
      "4      40        2  ...      1         6         24.9              1.227659   \n",
      "\n",
      "   n2_unrao25_2020 n2_unrao25_2021  c_gini_2020  c_gini_2021  \\\n",
      "0              3.1             3.1         25.4         24.1   \n",
      "1              3.1             3.1         25.4         24.1   \n",
      "2              6.8             8.1         25.4         24.1   \n",
      "3              3.5             4.2         25.4         24.1   \n",
      "4              3.1             3.1         25.4         24.1   \n",
      "\n",
      "   c_effectiveness_2020  c_effectiveness_2021  \n",
      "0              1.078783              1.087033  \n",
      "1              1.078783              1.087033  \n",
      "2              1.078783              1.087033  \n",
      "3              1.078783              1.087033  \n",
      "4              1.078783              1.087033  \n",
      "\n",
      "[5 rows x 29 columns]\n"
     ]
    }
   ],
   "source": [
    "# List of required variables to keep\n",
    "required_variables = [\n",
    "    'idno', 'gincdif', 'nuts2', 'eisced', 'eiscedf', 'eiscedm', 'domicil', \n",
    "    'n2_unrao25_2022', 'wkhtot', 'ipeqopt', 'inprdsc', \n",
    "    'ppltrst', 'trstprl', 'gndr', 'agea', 'cntry', 'marsts', \n",
    "    'chldhhe', 'uemp3m', 'mbtru', 'hinctnta', \n",
    "    'c_gini_2022', 'c_effectiveness_2022', \n",
    "    'n2_unrao25_2020', 'n2_unrao25_2021', \n",
    "    'c_gini_2020', 'c_gini_2021', \n",
    "    'c_effectiveness_2020', 'c_effectiveness_2021'\n",
    "]\n",
    "# Drop all other variables and rename the dataset to \"data_in_progress\"\n",
    "data_in_progress_ess = data_full[required_variables]\n",
    "\n",
    "# Save the dataset for further cleaning\n",
    "data_in_progress_ess.to_csv('data_in_progress_ess.csv', index=False)\n",
    "\n",
    "# Check the renamed dataset\n",
    "print(data_in_progress_ess.head())"
   ]
  },
  {
   "cell_type": "code",
   "execution_count": 23,
   "id": "824a59be-99ee-4bd3-9215-34b69dbd127a",
   "metadata": {},
   "outputs": [
    {
     "name": "stdout",
     "output_type": "stream",
     "text": [
      "Countries in data_in_progress but not in eqi_data:\n",
      "{'CH', 'GR', 'NO', 'GB', 'ME', 'MK', 'IS'}\n",
      "Countries in eqi_data but not in data_in_progress:\n",
      "{'LV', 'DK', 'EL', 'ES', 'PL', 'LU', 'DE', 'AT', 'MT', 'CY', 'RO', 'SE'}\n",
      "Common countries:\n",
      "{'IE', 'IT', 'SK', 'BG', 'NL', 'BE', 'HR', 'PT', 'HU', 'SI', 'CZ', 'EE', 'LT', 'FI', 'FR'}\n"
     ]
    }
   ],
   "source": [
    "import pandas as pd\n",
    "\n",
    "# Load the datasets\n",
    "data_in_progress_ess = pd.read_csv('data_in_progress_ess.csv')  # The main dataset\n",
    "eqi_data = pd.read_csv('qog_eqi_agg_21.csv')  # The dataset with EQI variable (additional dataset)\n",
    "\n",
    "# List unique countries in each dataset\n",
    "countries_in_data = data_in_progress_ess['cntry'].unique()\n",
    "countries_in_eqi = eqi_data['nuts0'].unique()\n",
    "\n",
    "# Find common countries\n",
    "common_countries = set(countries_in_data).intersection(set(countries_in_eqi))\n",
    "\n",
    "# Display results\n",
    "print(\"Countries in data_in_progress but not in eqi_data:\")\n",
    "print(set(countries_in_data) - set(countries_in_eqi))\n",
    "\n",
    "print(\"Countries in eqi_data but not in data_in_progress:\")\n",
    "print(set(countries_in_eqi) - set(countries_in_data))\n",
    "\n",
    "print(\"Common countries:\")\n",
    "print(common_countries)"
   ]
  },
  {
   "cell_type": "code",
   "execution_count": 25,
   "id": "b3efc105-3d6c-4afc-8a3d-ab22de31eaf0",
   "metadata": {},
   "outputs": [],
   "source": [
    "# Filter data_in_progress for common countries\n",
    "data_in_progress_ess_filtered = data_in_progress_ess[data_in_progress_ess['cntry'].isin(common_countries)]\n",
    "\n",
    "# Filter eqi_data for common countries\n",
    "eqi_data_filtered = eqi_data[eqi_data['nuts0'].isin(common_countries)]"
   ]
  },
  {
   "cell_type": "code",
   "execution_count": 27,
   "id": "a30cd29a-c3ba-4ae0-8fb9-7f281ebb3082",
   "metadata": {},
   "outputs": [
    {
     "name": "stdout",
     "output_type": "stream",
     "text": [
      "NUTS2 codes in data_in_progress but not in eqi_data:\n",
      "{'HR02', 'HR06', 'EE00', 'HR05'}\n",
      "NUTS2 codes in eqi_data but not in data_in_progress:\n",
      "{'ITC1', 'ITH2', 'ITF3', 'ITF4', 'ITF1', 'ITG1', 'HR04', 'PT20', 'ITI1', 'ITF6', 'ITC3', 'FRY1', 'ITF5', 'ITF2', 'ITI3', 'ITI4', 'ITG2', 'ITH1', 'FRM0', 'ITI2', 'ITH5', 'FRY5', 'ITH4', 'ITH3', 'ITC2', 'FRY4', 'FRY2', 'PT30', 'ITC4', 'FRY3'}\n"
     ]
    }
   ],
   "source": [
    "# Check unique nuts2 codes in both datasets\n",
    "nuts2_data_in_progress_ess = data_in_progress_ess_filtered['nuts2'].unique()\n",
    "nuts2_eqi_data = eqi_data_filtered['nuts2'].unique()\n",
    "\n",
    "# Find common nuts2 codes\n",
    "common_nuts2 = set(nuts2_data_in_progress_ess).intersection(set(nuts2_eqi_data))\n",
    "\n",
    "# Display results\n",
    "print(\"NUTS2 codes in data_in_progress but not in eqi_data:\")\n",
    "print(set(nuts2_data_in_progress_ess) - set(nuts2_eqi_data))\n",
    "\n",
    "print(\"NUTS2 codes in eqi_data but not in data_in_progress:\")\n",
    "print(set(nuts2_eqi_data) - set(nuts2_data_in_progress_ess))"
   ]
  },
  {
   "cell_type": "code",
   "execution_count": 29,
   "id": "f969b037-7660-428e-b00d-e9cc234c4cae",
   "metadata": {},
   "outputs": [],
   "source": [
    "# Filter data_in_progress for common NUTS2 codes\n",
    "data_in_progress_ess_final = data_in_progress_ess_filtered[data_in_progress_ess_filtered['nuts2'].isin(common_nuts2)]\n",
    "\n",
    "# Filter eqi_data for common NUTS2 codes and select only necessary columns\n",
    "selected_columns = ['nuts2', 'eqi21_n2', 'eqi21_n2_lowME', 'eqi21_n2_highME']\n",
    "eqi_data_final = eqi_data_filtered[eqi_data_filtered['nuts2'].isin(common_nuts2)][selected_columns]"
   ]
  },
  {
   "cell_type": "code",
   "execution_count": 33,
   "id": "5f2b3b55-8e48-4139-96e8-d3ba0271c209",
   "metadata": {},
   "outputs": [
    {
     "name": "stdout",
     "output_type": "stream",
     "text": [
      "The combined dataset has 24511 rows and 32 columns.\n",
      "    idno  gincdif nuts2  eisced  eiscedf  eiscedm  domicil  n2_unrao25_2022  \\\n",
      "0  10038        2  BE24       1        4      6.0        4              2.7   \n",
      "1  10053        3  BE24       7        7      7.0        4              2.7   \n",
      "2  10055        3  BE33       6        5      5.0        4              7.5   \n",
      "3  10062        8  BE21       4        1      1.0        1              3.2   \n",
      "4  10064        2  BE24       7        6      6.0        2              2.7   \n",
      "\n",
      "   wkhtot  ipeqopt  ...  c_effectiveness_2022  n2_unrao25_2020  \\\n",
      "0     666        1  ...              1.227659              3.1   \n",
      "1      40        2  ...              1.227659              3.1   \n",
      "2      42        1  ...              1.227659              6.8   \n",
      "3      35        2  ...              1.227659              3.5   \n",
      "4      40        2  ...              1.227659              3.1   \n",
      "\n",
      "   n2_unrao25_2021  c_gini_2020  c_gini_2021 c_effectiveness_2020  \\\n",
      "0              3.1         25.4         24.1             1.078783   \n",
      "1              3.1         25.4         24.1             1.078783   \n",
      "2              8.1         25.4         24.1             1.078783   \n",
      "3              4.2         25.4         24.1             1.078783   \n",
      "4              3.1         25.4         24.1             1.078783   \n",
      "\n",
      "   c_effectiveness_2021  eqi21_n2  eqi21_n2_lowME  eqi21_n2_highME  \n",
      "0              1.087033     0.557        0.252454         0.861546  \n",
      "1              1.087033     0.557        0.252454         0.861546  \n",
      "2              1.087033     0.154       -0.077615         0.385615  \n",
      "3              1.087033     0.478        0.153449         0.802551  \n",
      "4              1.087033     0.557        0.252454         0.861546  \n",
      "\n",
      "[5 rows x 32 columns]\n"
     ]
    }
   ],
   "source": [
    "# Merge the datasets\n",
    "combined_data = pd.merge(data_in_progress_ess_final, eqi_data_final, on='nuts2', how='inner')\n",
    "\n",
    "# Display the shape and head of the merged dataset\n",
    "print(f\"The combined dataset has {combined_data.shape[0]} rows and {combined_data.shape[1]} columns.\")\n",
    "print(combined_data.head())"
   ]
  },
  {
   "cell_type": "code",
   "execution_count": 35,
   "id": "525e8788-75ec-4ba9-9b5d-baa40c8ec297",
   "metadata": {},
   "outputs": [],
   "source": [
    "# Save the combined dataset to a new CSV file\n",
    "combined_data.to_csv('combined_data.csv', index=False)"
   ]
  },
  {
   "cell_type": "code",
   "execution_count": 37,
   "id": "2982f3c8-ce69-4095-98eb-868bb8ace2f1",
   "metadata": {},
   "outputs": [
    {
     "name": "stdout",
     "output_type": "stream",
     "text": [
      "The dataset contains 14 unique countries.\n",
      "List of unique countries in the dataset:\n",
      "['BE' 'BG' 'CZ' 'FI' 'FR' 'HR' 'HU' 'IE' 'IT' 'LT' 'NL' 'PT' 'SI' 'SK']\n"
     ]
    }
   ],
   "source": [
    "# 'cntry' is the column representing countries in the dataset\n",
    "num_countries = combined_data['cntry'].nunique()\n",
    "\n",
    "# Display the number of unique countries\n",
    "print(f\"The dataset contains {num_countries} unique countries.\")\n",
    "\n",
    "# List all the unique country names\n",
    "unique_countries = combined_data['cntry'].unique()\n",
    "print(\"List of unique countries in the dataset:\")\n",
    "print(unique_countries)"
   ]
  }
 ],
 "metadata": {
  "kernelspec": {
   "display_name": "Python 3 (ipykernel)",
   "language": "python",
   "name": "python3"
  },
  "language_info": {
   "codemirror_mode": {
    "name": "ipython",
    "version": 3
   },
   "file_extension": ".py",
   "mimetype": "text/x-python",
   "name": "python",
   "nbconvert_exporter": "python",
   "pygments_lexer": "ipython3",
   "version": "3.12.4"
  }
 },
 "nbformat": 4,
 "nbformat_minor": 5
}
